{
  "nbformat": 4,
  "nbformat_minor": 0,
  "metadata": {
    "colab": {
      "provenance": []
    },
    "kernelspec": {
      "name": "python3",
      "display_name": "Python 3"
    },
    "language_info": {
      "name": "python"
    }
  },
  "cells": [
    {
      "cell_type": "markdown",
      "source": [
        "Uniqueid,CountryName,Count,%,BaseCount,Base %,% Pen,Index\n",
        "NC23Q1TRCIND,India,25397,4.14,302,119,2.00,8.41,207\n",
        "NC23Q1TRCCHN,China, People's Republic of,5079,0.83,45,177,0.30,11.24,276\n",
        "NC23Q1TRCPHL,Philippines,1019,0.17,28,681,0.19,3.55,87\n",
        "NC23Q1TRCNGA,Nigeria,1300,0.21,13,944,0.09,9.32,229\n",
        "NC23Q1TRCUSA,United States of America,864,0.14,11,632,0.08,7.43,182\n",
        "NC23Q1TRCPAK,Pakistan,0,0.00,3,848,0.03,0.00,0\n",
        "NC23Q1TRCFRA,France,0,0.00,2,885,0.02,0.00,0\n",
        "NC23Q1TRCIRN,Iran,1865,0.30,11,762,0.08,15.86,389\n",
        "NC23Q1TRCBRA,Brazil,898,0.15,9,053,0.06,9.92,244\n",
        "NC23Q1TRCKOR,Korea, Republic of,1125,0.18,8,671,0.06,12.97,319\n",
        "NC23Q1TRCGBR,United Kingdom and Overseas Territories,0,0.00,4,055,0.03,0.00,0\n",
        "NC23Q1TRCMEX,Mexico,280,0.05,23,661,0.16,1.18,29\n",
        "NC23Q1TRCJAM,Jamaica,0,0.00,11,004,0.07,0.00,0\n",
        "NC23Q1TRCCOL,Colombia,776,0.13,7,831,0.05,9.91,244\n",
        "NC23Q1TRCVIE,Vietnam,402,0.07,8,122,0.05,4.95,122\n",
        "NC23Q1TRCBAN,Bangladesh,821,0.13,5,528,0.04,14.85,365\n",
        "NC23Q1TRCMOR,Morocco,64,0.01,1,714,0.01,3.73,91\n",
        "NC23Q1TRCALG,Algeria,27,0.00,731,0.01,3.69,92\n",
        "NC23Q1TRCUKR,Ukraine,593,0.10,42,980,0.28,1.38,34\n",
        "NC23Q1TRCHKG,Hong Kong,675,0.11,7,055,0.05,9.57,235\n",
        "NC23Q1TRCOTH,All other countries,6651,1.08,77,820,0.52,8.55,210\n"
      ],
      "metadata": {
        "id": "8KzjwZVw9187"
      }
    }
  ]
}